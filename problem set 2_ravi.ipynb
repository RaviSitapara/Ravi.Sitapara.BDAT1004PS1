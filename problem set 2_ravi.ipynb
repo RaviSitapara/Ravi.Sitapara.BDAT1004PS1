{
 "cells": [
  {
   "cell_type": "markdown",
   "id": "3a358768",
   "metadata": {},
   "source": [
    "# Data Programming - DataSet 2\n",
    "## Ravi Sitapara\n",
    "   200517436"
   ]
  },
  {
   "cell_type": "code",
   "execution_count": null,
   "id": "26de7236",
   "metadata": {},
   "outputs": [],
   "source": [
    "\n",
    "\n",
    "\n",
    "#QUE 1 :\n"
   ]
  },
  {
   "cell_type": "code",
   "execution_count": 5,
   "id": "f14c4776",
   "metadata": {},
   "outputs": [],
   "source": [
    "a = 0\n",
    "def b():\n",
    "    global a\n",
    "    a = c(a)\n",
    "def c(a):\n",
    "    return a + 2"
   ]
  },
  {
   "cell_type": "code",
   "execution_count": 6,
   "id": "bc5b22a0",
   "metadata": {},
   "outputs": [
    {
     "data": {
      "text/plain": [
       "2"
      ]
     },
     "execution_count": 6,
     "metadata": {},
     "output_type": "execute_result"
    }
   ],
   "source": [
    "b()\n",
    "a"
   ]
  },
  {
   "cell_type": "code",
   "execution_count": 7,
   "id": "c766efed",
   "metadata": {},
   "outputs": [
    {
     "data": {
      "text/plain": [
       "4"
      ]
     },
     "execution_count": 7,
     "metadata": {},
     "output_type": "execute_result"
    }
   ],
   "source": [
    "b()\n",
    "a"
   ]
  },
  {
   "cell_type": "code",
   "execution_count": 8,
   "id": "d1b96999",
   "metadata": {},
   "outputs": [
    {
     "data": {
      "text/plain": [
       "6"
      ]
     },
     "execution_count": 8,
     "metadata": {},
     "output_type": "execute_result"
    }
   ],
   "source": [
    "b()\n",
    "a"
   ]
  },
  {
   "cell_type": "code",
   "execution_count": null,
   "id": "a02a18b9",
   "metadata": {},
   "outputs": [],
   "source": [
    "#Que 2 : "
   ]
  },
  {
   "cell_type": "code",
   "execution_count": 9,
   "id": "7e6321ac",
   "metadata": {},
   "outputs": [],
   "source": [
    "def fileLength(filename):\n",
    "    try:\n",
    "        infile = open (filename,'r')\n",
    "        content = infile.read ()\n",
    "        length = len(content)\n",
    "        print (length)\n",
    "        infile.close()\n",
    "    except :\n",
    "        print (\"File {} not found\".format (filename))"
   ]
  },
  {
   "cell_type": "code",
   "execution_count": 11,
   "id": "dae9774e",
   "metadata": {},
   "outputs": [
    {
     "name": "stdout",
     "output_type": "stream",
     "text": [
      "123\n"
     ]
    }
   ],
   "source": [
    "fileLength(\"demo.txt\")"
   ]
  },
  {
   "cell_type": "code",
   "execution_count": 12,
   "id": "2dea76e4",
   "metadata": {},
   "outputs": [
    {
     "name": "stdout",
     "output_type": "stream",
     "text": [
      "File idterm.py not found\n"
     ]
    }
   ],
   "source": [
    "fileLength('idterm.py')"
   ]
  },
  {
   "cell_type": "code",
   "execution_count": null,
   "id": "bed65998",
   "metadata": {},
   "outputs": [],
   "source": [
    "#QUE 3:\n"
   ]
  },
  {
   "cell_type": "code",
   "execution_count": 1,
   "id": "e957997f",
   "metadata": {},
   "outputs": [],
   "source": [
    "class Marsupial:\n",
    "    def __init__(self):\n",
    "        self.list = []\n",
    "\n",
    "    def put_in_pouch (self, item):\n",
    "        return self.list.append(item)\n",
    "\n",
    "    def pouch_contents(self):\n",
    "        return self.list\n",
    "    "
   ]
  },
  {
   "cell_type": "code",
   "execution_count": 14,
   "id": "12bd9e4f",
   "metadata": {},
   "outputs": [
    {
     "data": {
      "text/plain": [
       "['doll', 'firetruck', 'kitten']"
      ]
     },
     "execution_count": 14,
     "metadata": {},
     "output_type": "execute_result"
    }
   ],
   "source": [
    "m = Marsupial()\n",
    "m.put_in_pouch('doll')\n",
    "m.put_in_pouch('firetruck')\n",
    "m.put_in_pouch('kitten')\n",
    "m.pouch_contents()"
   ]
  },
  {
   "cell_type": "code",
   "execution_count": 15,
   "id": "bf159e7c",
   "metadata": {},
   "outputs": [],
   "source": [
    "class Kangaroo (Marsupial):\n",
    "    def __init__(self,x=0,y=0):\n",
    "        self.list = []\n",
    "        self.x = x\n",
    "        self.y = y      \n",
    "    def jump (self,dx,dy):\n",
    "        self.x+=dx\n",
    "        self.y+=dy      \n",
    "    def __str__(self): \n",
    "        return ('Iam a Kangaroo located at coordinates ({},{})'.format(self.x, self.y))"
   ]
  },
  {
   "cell_type": "code",
   "execution_count": 16,
   "id": "a89cf353",
   "metadata": {},
   "outputs": [
    {
     "name": "stdout",
     "output_type": "stream",
     "text": [
      "Iam a Kangaroo located at coordinates (0,0)\n"
     ]
    }
   ],
   "source": [
    "k = Kangaroo(0,0)\n",
    "print (k)"
   ]
  },
  {
   "cell_type": "code",
   "execution_count": 17,
   "id": "4d79338a",
   "metadata": {},
   "outputs": [
    {
     "data": {
      "text/plain": [
       "['doll', 'firetruck', 'kitten']"
      ]
     },
     "execution_count": 17,
     "metadata": {},
     "output_type": "execute_result"
    }
   ],
   "source": [
    "k.put_in_pouch('doll')\n",
    "k.put_in_pouch('firetruck')\n",
    "k.put_in_pouch('kitten')\n",
    "k.pouch_contents()"
   ]
  },
  {
   "cell_type": "code",
   "execution_count": 18,
   "id": "9c0beec5",
   "metadata": {},
   "outputs": [
    {
     "name": "stdout",
     "output_type": "stream",
     "text": [
      "Iam a Kangaroo located at coordinates (3,0)\n"
     ]
    }
   ],
   "source": [
    "k.jump(1,0)\n",
    "k.jump(1,0)\n",
    "k.jump(1,0)\n",
    "print(k)"
   ]
  },
  {
   "cell_type": "code",
   "execution_count": null,
   "id": "9e7d577b",
   "metadata": {},
   "outputs": [],
   "source": [
    "#Que 4 :"
   ]
  },
  {
   "cell_type": "code",
   "execution_count": 19,
   "id": "ff9be93b",
   "metadata": {},
   "outputs": [],
   "source": [
    "def collatz(x):\n",
    "    print (x,end = ' ')\n",
    "    if x%2 == 1:\n",
    "        if x != 1:\n",
    "            x = int(3*x +1)\n",
    "            collatz(x)\n",
    "    else:\n",
    "        x = int(x/2)\n",
    "        collatz(x)"
   ]
  },
  {
   "cell_type": "code",
   "execution_count": 20,
   "id": "9930ef33",
   "metadata": {},
   "outputs": [
    {
     "name": "stdout",
     "output_type": "stream",
     "text": [
      "1 "
     ]
    }
   ],
   "source": [
    "collatz(1)"
   ]
  },
  {
   "cell_type": "code",
   "execution_count": 21,
   "id": "c75fe3de",
   "metadata": {},
   "outputs": [
    {
     "name": "stdout",
     "output_type": "stream",
     "text": [
      "10 5 16 8 4 2 1 "
     ]
    }
   ],
   "source": [
    "collatz(10)"
   ]
  },
  {
   "cell_type": "code",
   "execution_count": null,
   "id": "3aeaaa32",
   "metadata": {},
   "outputs": [],
   "source": [
    "#Que 5 :"
   ]
  },
  {
   "cell_type": "code",
   "execution_count": 22,
   "id": "db9cba36",
   "metadata": {},
   "outputs": [],
   "source": [
    "b = []\n",
    "def binary (n):\n",
    "    if n == 0:\n",
    "        print(0)\n",
    "    elif n == 1:\n",
    "        b.append(str(1))\n",
    "        b.reverse()\n",
    "        c= ''.join(b)\n",
    "        print (c)\n",
    "        b.clear()\n",
    "    elif n!=1:\n",
    "        a = n%2\n",
    "        b.append(str(a))\n",
    "        n = n//2\n",
    "        binary (n)"
   ]
  },
  {
   "cell_type": "code",
   "execution_count": 23,
   "id": "2b12edf4",
   "metadata": {},
   "outputs": [
    {
     "name": "stdout",
     "output_type": "stream",
     "text": [
      "0\n"
     ]
    }
   ],
   "source": [
    "binary(0)"
   ]
  },
  {
   "cell_type": "code",
   "execution_count": 24,
   "id": "bc1bb787",
   "metadata": {},
   "outputs": [
    {
     "name": "stdout",
     "output_type": "stream",
     "text": [
      "1\n"
     ]
    }
   ],
   "source": [
    "binary(1)"
   ]
  },
  {
   "cell_type": "code",
   "execution_count": 25,
   "id": "21db5d87",
   "metadata": {},
   "outputs": [
    {
     "name": "stdout",
     "output_type": "stream",
     "text": [
      "11\n"
     ]
    }
   ],
   "source": [
    "binary(3)"
   ]
  },
  {
   "cell_type": "code",
   "execution_count": 26,
   "id": "ab1b8272",
   "metadata": {},
   "outputs": [
    {
     "name": "stdout",
     "output_type": "stream",
     "text": [
      "1001\n"
     ]
    }
   ],
   "source": [
    "binary(9)"
   ]
  },
  {
   "cell_type": "code",
   "execution_count": null,
   "id": "9bbdba97",
   "metadata": {},
   "outputs": [],
   "source": [
    "#Que 6 :\n"
   ]
  },
  {
   "cell_type": "code",
   "execution_count": 27,
   "id": "e36f84fd",
   "metadata": {},
   "outputs": [
    {
     "ename": "SyntaxError",
     "evalue": "invalid syntax (3907512871.py, line 1)",
     "output_type": "error",
     "traceback": [
      "\u001b[1;36m  Input \u001b[1;32mIn [27]\u001b[1;36m\u001b[0m\n\u001b[1;33m    rom html.parser import HTMLParser\u001b[0m\n\u001b[1;37m        ^\u001b[0m\n\u001b[1;31mSyntaxError\u001b[0m\u001b[1;31m:\u001b[0m invalid syntax\n"
     ]
    }
   ],
   "source": [
    "rom html.parser import HTMLParser\n",
    "class HeadingParser(HTMLParser):\n",
    "    def __init__(self):\n",
    "        HTMLParser.__init__(self)\n",
    "        self.indent=0\n",
    "        self.header = False\n",
    "        self.b = 0\n",
    "        \n",
    "    def handle_starttag(self, tag, attrs):\n",
    "        if tag == 'h1' or tag == 'h2':\n",
    "            self.header = True\n",
    "            self.b = re.findall(r'\\d+',tag)\n",
    "            self.indent += int(self.b[0])-1\n",
    "            \n",
    "    def handle_data(self, data):\n",
    "        if self.header == True:\n",
    "            print('{}{}'.format(self.indent*' ', data))\n",
    "\n",
    "    def handle_endtag(self, tag):\n",
    "        if tag == 'h1' or tag == 'h2':\n",
    "            self.header = False             "
   ]
  },
  {
   "cell_type": "code",
   "execution_count": null,
   "id": "1361a729",
   "metadata": {},
   "outputs": [],
   "source": [
    "#Que 7 :"
   ]
  },
  {
   "cell_type": "code",
   "execution_count": 28,
   "id": "e639c8c4",
   "metadata": {},
   "outputs": [],
   "source": [
    "from urllib.request import urlopen\n",
    "from urllib.parse import urljoin\n",
    "from html.parser import HTMLParser\n",
    "class Collector(HTMLParser):\n",
    "    \n",
    "\n",
    "    def __init__(self, url):\n",
    "        \n",
    "        HTMLParser.__init__(self)\n",
    "        self.url = url\n",
    "        self.links = []\n",
    "\n",
    "    \n",
    "    def handle_starttag(self, tag, attrs):\n",
    "        \n",
    "        if tag == 'a':\n",
    "            for attr in attrs:\n",
    "                if attr[0] == 'href':\n",
    "                    \n",
    "                    absolute = urljoin(self.url, attr[1])\n",
    "                    if absolute[:4] == 'http': # collect HTTP URLs\n",
    "                        self.links.append(absolute)\n",
    "                        \n",
    "    def getLinks(self):\n",
    "        \n",
    "        return self.links"
   ]
  },
  {
   "cell_type": "code",
   "execution_count": 29,
   "id": "f5a28ab9",
   "metadata": {},
   "outputs": [],
   "source": [
    "def webdir(url, depth, indent):\n",
    "        for i in range(indent+1):\n",
    "            print(\"\\t\",end='')\n",
    "        print(url)\n",
    "    \n",
    "        \n",
    "        content = urlopen(url).read().decode()\n",
    "        collector = Collector(url)\n",
    "        collector.feed(content)\n",
    "        urls = collector.getLinks()\n",
    "    \n",
    "        for o in range(depth):\n",
    "            try:                    \n",
    "                webdir(urls[o], depth-1, indent+1)\n",
    "            except:\n",
    "                pass"
   ]
  },
  {
   "cell_type": "code",
   "execution_count": 30,
   "id": "ac2964a3",
   "metadata": {},
   "outputs": [
    {
     "name": "stdout",
     "output_type": "stream",
     "text": [
      "\thttp://reed.cs.depaul.edu/lperkovic/one.html\n",
      "\t\thttp://reed.cs.depaul.edu/lperkovic/two.html\n",
      "\t\t\thttp://reed.cs.depaul.edu/lperkovic/four.html\n",
      "\t\thttp://reed.cs.depaul.edu/lperkovic/three.html\n",
      "\t\t\thttp://reed.cs.depaul.edu/lperkovic/four.html\n"
     ]
    }
   ],
   "source": [
    "webdir('http://reed.cs.depaul.edu/lperkovic/one.html',2,0)"
   ]
  },
  {
   "cell_type": "code",
   "execution_count": null,
   "id": "c11ae3f3",
   "metadata": {},
   "outputs": [],
   "source": [
    "#Que 8 :"
   ]
  },
  {
   "cell_type": "raw",
   "id": "5f89f03c",
   "metadata": {},
   "source": [
    "1) SELECT Temperature FROM table_name;\n",
    "2) SELECT DISTINCT City FROM table_name;\n",
    "3) SELECT * FROM table_name WHERE Country = \"India\";\n",
    "4) SELECT * FROM table_name WHERE Season = \"Fall\";\n",
    "5) SELECT  city, country, season FROM table_name WHERE Rainfall BETWEEN 200 AND 400;\n",
    "6) SELECT  city, country FROM table_name WHERE Season = \"Fall\" AND Temperature < 20;\n",
    "7) SELECT SUM(Rainfall) FROM table_name WHERE city = \"cairo\";\n",
    "8-I) SELECT SUM(Rainfall) FROM table_name WHERE season = \"winter\";\n",
    "8-I) SELECT SUM(Rainfall) FROM table_name WHERE season = \"spring\";\n",
    "8-I) SELECT SUM(Rainfall) FROM table_name WHERE season = \"summer\";\n",
    "8-I) SELECT SUM(Rainfall) FROM table_name WHERE season = \"fall\"; "
   ]
  },
  {
   "cell_type": "code",
   "execution_count": null,
   "id": "f7d1f2c9",
   "metadata": {},
   "outputs": [],
   "source": [
    "#Que 9 :\n"
   ]
  },
  {
   "cell_type": "code",
   "execution_count": 31,
   "id": "6144d460",
   "metadata": {},
   "outputs": [],
   "source": [
    "words = ['The','quick','brown','fox','jumps','over','the','lazy','dog']\n",
    "newwords1 = [word.upper() for word in words]"
   ]
  },
  {
   "cell_type": "code",
   "execution_count": 32,
   "id": "e95a2d86",
   "metadata": {},
   "outputs": [
    {
     "name": "stdout",
     "output_type": "stream",
     "text": [
      "['THE', 'QUICK', 'BROWN', 'FOX', 'JUMPS', 'OVER', 'THE', 'LAZY', 'DOG']\n"
     ]
    }
   ],
   "source": [
    "print (newwords1)"
   ]
  },
  {
   "cell_type": "code",
   "execution_count": 33,
   "id": "df90e2cc",
   "metadata": {},
   "outputs": [],
   "source": [
    "newwords2 = [word.lower() for word in words]"
   ]
  },
  {
   "cell_type": "code",
   "execution_count": 34,
   "id": "bfa479b9",
   "metadata": {},
   "outputs": [
    {
     "name": "stdout",
     "output_type": "stream",
     "text": [
      "['the', 'quick', 'brown', 'fox', 'jumps', 'over', 'the', 'lazy', 'dog']\n"
     ]
    }
   ],
   "source": [
    "print (newwords2)"
   ]
  },
  {
   "cell_type": "code",
   "execution_count": 35,
   "id": "92638ea2",
   "metadata": {},
   "outputs": [],
   "source": [
    "newwords3 = [len(word) for word in words]"
   ]
  },
  {
   "cell_type": "code",
   "execution_count": 36,
   "id": "c3e1aa23",
   "metadata": {},
   "outputs": [
    {
     "name": "stdout",
     "output_type": "stream",
     "text": [
      "[3, 5, 5, 3, 5, 4, 3, 4, 3]\n"
     ]
    }
   ],
   "source": [
    "print (newwords3)"
   ]
  },
  {
   "cell_type": "code",
   "execution_count": 37,
   "id": "3a69c2e7",
   "metadata": {},
   "outputs": [],
   "source": [
    "newwords4= [(word.upper(),word.lower(),len(word)) for word in words]"
   ]
  },
  {
   "cell_type": "code",
   "execution_count": 38,
   "id": "96c31229",
   "metadata": {},
   "outputs": [
    {
     "name": "stdout",
     "output_type": "stream",
     "text": [
      "[('THE', 'the', 3), ('QUICK', 'quick', 5), ('BROWN', 'brown', 5), ('FOX', 'fox', 3), ('JUMPS', 'jumps', 5), ('OVER', 'over', 4), ('THE', 'the', 3), ('LAZY', 'lazy', 4), ('DOG', 'dog', 3)]\n"
     ]
    }
   ],
   "source": [
    "print (newwords4)"
   ]
  },
  {
   "cell_type": "code",
   "execution_count": 39,
   "id": "bd6cfbd3",
   "metadata": {},
   "outputs": [],
   "source": [
    "newwords5 = [word for word in words if len(word)>= 4]"
   ]
  },
  {
   "cell_type": "code",
   "execution_count": 40,
   "id": "f5673daf",
   "metadata": {},
   "outputs": [
    {
     "name": "stdout",
     "output_type": "stream",
     "text": [
      "['quick', 'brown', 'jumps', 'over', 'lazy']\n"
     ]
    }
   ],
   "source": [
    "print(newwords5)"
   ]
  },
  {
   "cell_type": "code",
   "execution_count": null,
   "id": "4c06b4c5",
   "metadata": {},
   "outputs": [],
   "source": []
  }
 ],
 "metadata": {
  "kernelspec": {
   "display_name": "Python 3 (ipykernel)",
   "language": "python",
   "name": "python3"
  },
  "language_info": {
   "codemirror_mode": {
    "name": "ipython",
    "version": 3
   },
   "file_extension": ".py",
   "mimetype": "text/x-python",
   "name": "python",
   "nbconvert_exporter": "python",
   "pygments_lexer": "ipython3",
   "version": "3.10.4"
  }
 },
 "nbformat": 4,
 "nbformat_minor": 5
}
