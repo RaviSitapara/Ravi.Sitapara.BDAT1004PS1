{
 "cells": [
  {
   "cell_type": "markdown",
   "id": "6d1522c0",
   "metadata": {},
   "source": [
    "# Question 1"
   ]
  },
  {
   "cell_type": "code",
   "execution_count": 2,
   "id": "c8be6283",
   "metadata": {},
   "outputs": [
    {
     "name": "stdout",
     "output_type": "stream",
     "text": [
      "<class 'int'>\n",
      "<class 'float'>\n",
      "<class 'bool'>\n",
      "<class 'str'>\n",
      "<class 'int'>\n",
      "<class 'str'>\n",
      "<class 'str'>\n",
      "<class 'float'>\n",
      "<class 'int'>\n",
      "<class 'set'>\n",
      "<class 'bool'>\n",
      "<class 'float'>\n"
     ]
    }
   ],
   "source": [
    "import math\n",
    "\n",
    "num = 5\n",
    "print(type(num))\n",
    "\n",
    "num = 5.0\n",
    "print(type(num))\n",
    "\n",
    "num = 5 > 1\n",
    "print(type(num))\n",
    "\n",
    "num = '5'\n",
    "print(type(num))\n",
    "\n",
    "num = 5*2\n",
    "print(type(num))\n",
    "\n",
    "num = '5' * 2\n",
    "print(type(num))\n",
    "\n",
    "num = '5' + '2'\n",
    "print(type(num))\n",
    "\n",
    "num = 5/2\n",
    "print(type(num))\n",
    "\n",
    "num = 5%2\n",
    "print(type(num))\n",
    "\n",
    "num = {5,2,1}\n",
    "print(type(num))\n",
    "\n",
    "num = 5==3\n",
    "print(type(num))\n",
    "\n",
    "num = math.pi\n",
    "print(type(num))\n",
    "\n"
   ]
  },
  {
   "cell_type": "markdown",
   "id": "7c5dd77e",
   "metadata": {},
   "source": [
    "# Question 2"
   ]
  },
  {
   "cell_type": "code",
   "execution_count": 4,
   "id": "f7ea831e",
   "metadata": {},
   "outputs": [
    {
     "name": "stdout",
     "output_type": "stream",
     "text": [
      "34\n",
      "True\n"
     ]
    }
   ],
   "source": [
    "\n",
    "strlen = len('Supercalifragilisticexpialidocious')\n",
    "print(strlen)\n",
    "\n",
    "str = 'ice' in 'Supercalifragilisticexpialidocious'\n",
    "\n",
    "print(str)"
   ]
  },
  {
   "cell_type": "code",
   "execution_count": 6,
   "id": "0d0683dd",
   "metadata": {},
   "outputs": [
    {
     "name": "stdout",
     "output_type": "stream",
     "text": [
      "34\n",
      "27\n",
      "34\n"
     ]
    }
   ],
   "source": [
    "\n",
    "\n",
    "str1len = len('Supercalifragilisticexpialidocious')\n",
    "str2len = len('Honorificabilitudinitatibus')\n",
    "str3len = len('Bababadalgharaghtakamminarronnkonn')\n",
    "\n",
    "print(str1len)\n",
    "print(str2len)\n",
    "print(str3len)"
   ]
  },
  {
   "cell_type": "markdown",
   "id": "0dd0b72a",
   "metadata": {},
   "source": [
    "# Question 3"
   ]
  },
  {
   "cell_type": "code",
   "execution_count": 7,
   "id": "d6b114a0",
   "metadata": {},
   "outputs": [],
   "source": [
    "import math\n",
    "def triangleArea(side1,side2,side3):\n",
    "    s = (side1+side2+side3)/2\n",
    "    calulateSide = s*(s-side1)*(s-side2)*(s-side3)\n",
    "    calulateSide = math.sqrt(calulateSide)\n",
    "    return calulateSide"
   ]
  },
  {
   "cell_type": "code",
   "execution_count": 11,
   "id": "d376ac37",
   "metadata": {},
   "outputs": [
    {
     "name": "stdout",
     "output_type": "stream",
     "text": [
      "Enter side 1 :2\n",
      "Enter side 2 :2\n",
      "Enter side 3 :2\n",
      "1.7320508075688772\n"
     ]
    }
   ],
   "source": [
    "side1 = int(input(\"Enter side 1 :\"))\n",
    "side2 = int(input(\"Enter side 2 :\"))\n",
    "side3 = int(input(\"Enter side 3 :\"))\n",
    "\n",
    "area = triangleArea(side1,side2,side3)\n",
    "print(area)"
   ]
  },
  {
   "cell_type": "markdown",
   "id": "80e28ea3",
   "metadata": {},
   "source": [
    "# Question 4"
   ]
  },
  {
   "cell_type": "code",
   "execution_count": 17,
   "id": "dd4381b5",
   "metadata": {},
   "outputs": [
    {
     "name": "stdout",
     "output_type": "stream",
     "text": [
      "Input the number of elements to be stored in the array 5\n",
      "Element 0 :56\n",
      "Element 1 :32\n",
      "Element 2 :63\n",
      "Element 3 :69\n",
      "Element 4 :3\n",
      "\n",
      "=========\n",
      "Even  [56, 32]\n",
      "odd  [63, 69, 3]\n"
     ]
    }
   ],
   "source": [
    "size = int(input(\"Input the number of elements to be stored in the array \"))\n",
    "\n",
    "evenNums = []\n",
    "oddNums= []\n",
    "for num in range(0,size):\n",
    "    element = int(input(\"Element {} :\".format(num)))\n",
    "    \n",
    "    if(element % 2 ==0):\n",
    "        evenNums.append(element)\n",
    "    else:\n",
    "        oddNums.append(element)\n",
    "    \n",
    "print(\"\\n=========\")\n",
    "print(\"Even \",evenNums)\n",
    "print(\"odd \",oddNums)"
   ]
  },
  {
   "cell_type": "markdown",
   "id": "ef683a9a",
   "metadata": {},
   "source": [
    "# Question 5 (A)"
   ]
  },
  {
   "cell_type": "code",
   "execution_count": 18,
   "id": "3c92e161",
   "metadata": {},
   "outputs": [
    {
     "name": "stdout",
     "output_type": "stream",
     "text": [
      "Enter x :1\n",
      "Enter y :1\n",
      "Enter x1 :0\n",
      "Enter y1 :0\n",
      "Enter x2 :2\n",
      "Enter y2 :3\n",
      "True\n"
     ]
    }
   ],
   "source": [
    "def inside(x,y,x1,y1,x2,y2):\n",
    "    if(x >x1 and x<x2 and y>y1 and y <y2):\n",
    "       return True\n",
    "    else:\n",
    "       return False\n",
    "x = int(input(\"Enter x :\"))\n",
    "y = int(input(\"Enter y :\"))\n",
    "x1 = int(input(\"Enter x1 :\"))\n",
    "y1 = int(input(\"Enter y1 :\"))\n",
    "x2 = int(input(\"Enter x2 :\"))\n",
    "y2 = int(input(\"Enter y2 :\"))\n",
    "\n",
    "sideLies = inside(x,y,x1,y1,x2,y2)\n",
    "print(sideLies)"
   ]
  },
  {
   "cell_type": "markdown",
   "id": "e4ae6735",
   "metadata": {},
   "source": [
    "# Question 5 (B)"
   ]
  },
  {
   "cell_type": "code",
   "execution_count": 21,
   "id": "019704e7",
   "metadata": {},
   "outputs": [
    {
     "name": "stdout",
     "output_type": "stream",
     "text": [
      "False\n",
      "True\n"
     ]
    }
   ],
   "source": [
    "x = 1\n",
    "y = 1\n",
    "x1 = 0.3\n",
    "y1 = 0.5\n",
    "x2= 1.1\n",
    "y2= 0.7\n",
    "\n",
    "isInside = inside(x,y,x1,y1,x2,y2)\n",
    "print(isInside)\n",
    "\n",
    "x1 = 0.5\n",
    "y1 = 0.2\n",
    "x2= 1.1\n",
    "y2= 2\n",
    "\n",
    "isInside = inside(x,y,x1,y1,x2,y2)\n",
    "print(isInside)"
   ]
  },
  {
   "cell_type": "markdown",
   "id": "0765891d",
   "metadata": {},
   "source": [
    "# Question 6"
   ]
  },
  {
   "cell_type": "code",
   "execution_count": 22,
   "id": "786f5dcd",
   "metadata": {},
   "outputs": [],
   "source": [
    "def pig(str):\n",
    "    \n",
    "    vovelLst = ['a','e','i','o','u']\n",
    "    firstchar = str[0]\n",
    "    if(firstchar in vovelLst):\n",
    "        str = str + 'way'\n",
    "    else:\n",
    "        str = str[1:len(str)] + str[0] + 'ay'\n",
    "    return str"
   ]
  },
  {
   "cell_type": "code",
   "execution_count": 24,
   "id": "6bd0019c",
   "metadata": {},
   "outputs": [
    {
     "name": "stdout",
     "output_type": "stream",
     "text": [
      "Enter Word : HAPPY\n",
      "appyhay\n",
      "Enter Word : Enter\n",
      "enterway\n"
     ]
    }
   ],
   "source": [
    "w1 = input(\"Enter Word : \")\n",
    "w1 = w1.lower()\n",
    "newWord = pig(w1)\n",
    "print(newWord)\n",
    "\n",
    "w1 = input(\"Enter Word : \")\n",
    "w1 = w1.lower()\n",
    "newWord = pig(w1)\n",
    "print(newWord)\n"
   ]
  },
  {
   "cell_type": "markdown",
   "id": "faf6f8e7",
   "metadata": {},
   "source": [
    "# Question 7"
   ]
  },
  {
   "cell_type": "code",
   "execution_count": 39,
   "id": "7b4f26b2",
   "metadata": {
    "scrolled": true
   },
   "outputs": [
    {
     "name": "stdout",
     "output_type": "stream",
     "text": [
      "There are 15 patients of blood type A\n",
      "There are 1 patients of blood type B\n",
      "There are 13 patients of blood type AB\n",
      "There are 15 patients of blood type O\n",
      "There are 0 patients of blood type OO\n"
     ]
    }
   ],
   "source": [
    "file = open (\"bloodtype.txt\")\n",
    "file_content = file.read()\n",
    "file_content = file_content.lower()\n",
    "\n",
    "a = 0\n",
    "b = 0\n",
    "ab = 0\n",
    "o = 0\n",
    "oo = 0\n",
    "\n",
    "\n",
    "bloodLst = file_content.split(\" \")\n",
    "for bloodgroup in bloodLst:\n",
    "    if(bloodgroup == \"a\"):\n",
    "        a=a+1\n",
    "    elif(bloodgroup == \"b\"):\n",
    "        b= b+1\n",
    "    elif(bloodgroup == \"ab\"):\n",
    "        ab=ab+1\n",
    "    elif(bloodgroup == \"o\"):\n",
    "        o=o+1\n",
    "    elif(bloodgroup == \"oo\"):\n",
    "        oo=oo+1\n",
    "\n",
    "    \n",
    "print(\"There are\",a,\"patients of blood type A\")\n",
    "print(\"There are\",b,\"patients of blood type B\")\n",
    "print(\"There are\",ab,\"patients of blood type AB\")\n",
    "print(\"There are\",o,\"patients of blood type O\")\n",
    "print(\"There are\",oo,\"patients of blood type OO\")\n",
    "\n"
   ]
  },
  {
   "cell_type": "markdown",
   "id": "1e3211df",
   "metadata": {},
   "source": [
    "# Question 8"
   ]
  },
  {
   "cell_type": "code",
   "execution_count": 85,
   "id": "327e1add",
   "metadata": {},
   "outputs": [],
   "source": [
    "file = open(\"currencies.txt\",\"r\")\n",
    "file = file.readlines()\n",
    "\n",
    "curLst = []\n",
    "curAmtLst = []\n",
    "index = 0\n",
    "for line in file:\n",
    "    curLst.append(line.split(\"\\t\")[0])\n",
    "    curAmtLst.append(float(line.split(\"\\t\")[1]))\n",
    "\n"
   ]
  },
  {
   "cell_type": "code",
   "execution_count": 86,
   "id": "8e31039d",
   "metadata": {},
   "outputs": [],
   "source": [
    "def curconv(country,value):\n",
    "    if(country in curLst):\n",
    "        index = curLst.index(country)\n",
    "        amount = curAmtLst[index]\n",
    "        convertamount = value * amount\n",
    "        return convertamount\n",
    "    else:\n",
    "        return \"No conversation rate found\""
   ]
  },
  {
   "cell_type": "code",
   "execution_count": 87,
   "id": "35491602",
   "metadata": {},
   "outputs": [
    {
     "name": "stdout",
     "output_type": "stream",
     "text": [
      "Enter Currecy Initial :JPY\n",
      "Enter Amount to get USD Rate:100\n",
      "1.241401\n"
     ]
    }
   ],
   "source": [
    "currency = input(\"Enter Currecy Initial :\")\n",
    "value = int(input(\"Enter Amount to get USD Rate:\"))\n",
    "currency = currency.upper()\n",
    "convertUSD = curconv(currency,value)\n",
    "print(convertUSD)"
   ]
  },
  {
   "cell_type": "markdown",
   "id": "17981ff6",
   "metadata": {},
   "source": [
    "# Question 9"
   ]
  },
  {
   "cell_type": "code",
   "execution_count": 47,
   "id": "de4bd077",
   "metadata": {},
   "outputs": [
    {
     "name": "stdout",
     "output_type": "stream",
     "text": [
      "<class 'TypeError'>\n",
      "<class 'IndexError'>\n",
      "<class 'ValueError'>\n",
      "<class 'NameError'>\n",
      "<class 'FileNotFoundError'>\n"
     ]
    }
   ],
   "source": [
    "try:\n",
    "    add = 6 + 'a'  \n",
    "except Exception as exception:\n",
    "    ex = type(exception)\n",
    "    print(ex)\n",
    "    \n",
    "#########################\n",
    "\n",
    "lst = ['a','b','c','d','e','f','g','h','i','j']\n",
    "try:\n",
    "    print(lst[12])    \n",
    "except Exception as exception:\n",
    "    ex = type(exception)\n",
    "    print(ex)\n",
    "#########################\n",
    "import math\n",
    "try:\n",
    "    math.sqrt(-1.0)\n",
    "except Exception as exception:\n",
    "    ex = type(exception)\n",
    "    print(ex)\n",
    "########################\n",
    "try:\n",
    "    print(x11)\n",
    "except Exception as exception:\n",
    "    ex = type(exception)\n",
    "    print(ex)\n",
    "#######################\n",
    "try:\n",
    "    file = open(\"bldgrp.txt\")\n",
    "except Exception as exception:\n",
    "    ex = type(exception)\n",
    "    print(ex)"
   ]
  },
  {
   "cell_type": "markdown",
   "id": "68f50733",
   "metadata": {},
   "source": [
    "# Question 10"
   ]
  },
  {
   "cell_type": "code",
   "execution_count": 106,
   "id": "61ff1263",
   "metadata": {},
   "outputs": [],
   "source": [
    "letterLst = 'abcdefghijklmnopqrstuvwxyz'\n",
    "\n",
    "\n",
    "def frequencies(sentence):\n",
    "    letterCntLst =[]\n",
    "    sentence = sentence.lower()\n",
    "    for char in letterLst:\n",
    "        charCnt = 0\n",
    "        for i in range(0,len(sentence)):\n",
    "            if(char == sentence[i]):\n",
    "                charCnt = charCnt + 1\n",
    "        letterCntLst.append(charCnt)\n",
    "    return letterCntLst"
   ]
  },
  {
   "cell_type": "code",
   "execution_count": 107,
   "id": "77b887da",
   "metadata": {},
   "outputs": [
    {
     "name": "stdout",
     "output_type": "stream",
     "text": [
      "[1, 1, 1, 3, 5, 1, 1, 2, 1, 0, 1, 0, 1, 2, 4, 0, 1, 2, 0, 3, 1, 0, 1, 1, 0, 0]\n"
     ]
    }
   ],
   "source": [
    "string = input(\"Enter Sentence :\")\n",
    "wordCountLst = frequencies(string)\n",
    "\n",
    "print(wordCountLst)"
   ]
  }
 ],
 "metadata": {
  "kernelspec": {
   "display_name": "Python 3",
   "language": "python",
   "name": "python3"
  },
  "language_info": {
   "codemirror_mode": {
    "name": "ipython",
    "version": 3
   },
   "file_extension": ".py",
   "mimetype": "text/x-python",
   "name": "python",
   "nbconvert_exporter": "python",
   "pygments_lexer": "ipython3",
   "version": "3.8.8"
  }
 },
 "nbformat": 4,
 "nbformat_minor": 5
}
